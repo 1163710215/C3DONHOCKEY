{
 "cells": [
  {
   "cell_type": "code",
   "execution_count": 1,
   "metadata": {},
   "outputs": [],
   "source": [
    "\"\"\" How to use C3D network. \"\"\"\n",
    "import numpy as np\n",
    "import cv2\n",
    "#import cv\n",
    "import torch\n",
    "import torch.nn as nn\n",
    "from torch.autograd import Variable\n",
    "import os\n",
    "from os.path import join\n",
    "from glob import glob\n",
    "import matplotlib.pyplot as plt\n",
    "import skimage.io as io\n",
    "from skimage.transform import resize\n",
    "from tqdm import tqdm\n",
    "from C3D_model import C3D\n",
    "%matplotlib inline"
   ]
  },
  {
   "cell_type": "code",
   "execution_count": 2,
   "metadata": {},
   "outputs": [],
   "source": [
    "\n",
    "def get_sport_clip(clip_name, verbose=True):\n",
    "    \"\"\"\n",
    "    Loads a clip to be fed to C3D for classification.\n",
    "    TODO: should I remove mean here?\n",
    "    \n",
    "    Parameters\n",
    "    ----------\n",
    "    clip_name: str\n",
    "        the name of the clip (subfolder in 'data').\n",
    "    verbose: bool\n",
    "        if True, shows the unrolled clip (default is True).\n",
    "    Returns\n",
    "    -------\n",
    "    Tensor\n",
    "        a pytorch batch (n, ch, fr, h, w).\n",
    "    \"\"\"\n",
    "    #print(clip_name)\n",
    "    clip = sorted(glob(join( clip_name, '*.png')))\n",
    "#     for f in clip:\n",
    "#         print(f)\n",
    "#     fs=[]\n",
    "#     for frame in clip:\n",
    "#         frame = io.imread(frame)\n",
    "#         result = np.zeros(frame.shape,dtype=np.float32)\n",
    "#         cv2.normalize(frame,result,0,1,cv2.NORM_MINMAX)\n",
    "#         fs.append([resize(result, output_shape=(112, 200),\n",
    "#                             preserve_range=True) ])\n",
    "#     clip = np.array(fs)\n",
    "    #print(clip)\n",
    "    clip = np.array([resize(io.imread(frame),\n",
    "                            output_shape=(112, 200),\n",
    "                            preserve_range=True,\n",
    "                            mode='constant') for frame in clip])\n",
    "    clip = clip[:, :, 44:44+112, :]  # crop centrally\n",
    "\n",
    "    if verbose:\n",
    "        clip_img = np.reshape(clip.transpose(1, 0, 2, 3),(112, 41 * 112, 3))\n",
    "#         plt.imshow(clip_img.astype(np.uint8))\n",
    "#         plt.show()\n",
    "\n",
    "    clip = clip.transpose(3, 0, 1, 2)  # ch, fr, h, w\n",
    "    clip = np.expand_dims(clip, axis=0)  # batch axis\n",
    "    clip = np.float32(clip)\n",
    "\n",
    "    return torch.from_numpy(clip)\n",
    "\n",
    "\n"
   ]
  },
  {
   "cell_type": "code",
   "execution_count": 3,
   "metadata": {},
   "outputs": [],
   "source": [
    "import scipy.io as scio\n",
    "data = scio.loadmat('save.mat')\n",
    "allX=data['xTrain']\n",
    "allY=data['yTrain']\n",
    "testX=data['xTest']\n",
    "testY=data['yTest']"
   ]
  },
  {
   "cell_type": "code",
   "execution_count": 27,
   "metadata": {},
   "outputs": [
    {
     "data": {
      "text/plain": [
       "C3D(\n",
       "  (features): Sequential(\n",
       "    (0): Conv3d(3, 64, kernel_size=(3, 3, 3), stride=(1, 1, 1), padding=(1, 1, 1))\n",
       "    (1): ReLU(inplace)\n",
       "    (2): MaxPool3d(kernel_size=(1, 2, 2), stride=(1, 2, 2), padding=0, dilation=1, ceil_mode=False)\n",
       "    (3): Conv3d(64, 128, kernel_size=(3, 3, 3), stride=(1, 1, 1), padding=(1, 1, 1))\n",
       "    (4): ReLU(inplace)\n",
       "    (5): MaxPool3d(kernel_size=(2, 2, 2), stride=(2, 2, 2), padding=0, dilation=1, ceil_mode=False)\n",
       "    (6): Conv3d(128, 256, kernel_size=(3, 3, 3), stride=(1, 1, 1), padding=(1, 1, 1))\n",
       "    (7): ReLU(inplace)\n",
       "    (8): Conv3d(256, 256, kernel_size=(3, 3, 3), stride=(1, 1, 1), padding=(1, 1, 1))\n",
       "    (9): ReLU(inplace)\n",
       "    (10): MaxPool3d(kernel_size=(2, 2, 2), stride=(2, 2, 2), padding=0, dilation=1, ceil_mode=False)\n",
       "    (11): Conv3d(256, 512, kernel_size=(3, 3, 3), stride=(1, 1, 1), padding=(1, 1, 1))\n",
       "    (12): ReLU(inplace)\n",
       "    (13): Conv3d(512, 512, kernel_size=(3, 3, 3), stride=(1, 1, 1), padding=(1, 1, 1))\n",
       "    (14): ReLU(inplace)\n",
       "    (15): MaxPool3d(kernel_size=(2, 2, 2), stride=(2, 2, 2), padding=0, dilation=1, ceil_mode=False)\n",
       "    (16): Conv3d(512, 512, kernel_size=(3, 3, 3), stride=(1, 1, 1), padding=(1, 1, 1))\n",
       "    (17): ReLU(inplace)\n",
       "    (18): Conv3d(512, 512, kernel_size=(3, 3, 3), stride=(1, 1, 1), padding=(1, 1, 1))\n",
       "    (19): ReLU(inplace)\n",
       "    (20): MaxPool3d(kernel_size=(2, 2, 2), stride=(2, 2, 2), padding=(0, 1, 1), dilation=1, ceil_mode=False)\n",
       "  )\n",
       "  (classifier): Sequential(\n",
       "    (0): Linear(in_features=16384, out_features=4096, bias=True)\n",
       "    (1): ReLU(inplace)\n",
       "    (2): Dropout(p=0.5)\n",
       "    (3): Linear(in_features=4096, out_features=4096, bias=True)\n",
       "    (4): ReLU(inplace)\n",
       "    (5): Dropout(p=0.5)\n",
       "    (6): Linear(in_features=4096, out_features=2, bias=True)\n",
       "  )\n",
       ")"
      ]
     },
     "execution_count": 27,
     "metadata": {},
     "output_type": "execute_result"
    }
   ],
   "source": [
    "net = C3D()\n",
    "device=torch.device('cuda:1')\n",
    "net.to(device)\n",
    "net.load_state_dict(torch.load('./myC3D.pickle'))\n",
    "net.eval()\n"
   ]
  },
  {
   "cell_type": "code",
   "execution_count": null,
   "metadata": {},
   "outputs": [],
   "source": []
  },
  {
   "cell_type": "code",
   "execution_count": 32,
   "metadata": {},
   "outputs": [],
   "source": [
    "testX=allX\n",
    "testY=allY"
   ]
  },
  {
   "cell_type": "code",
   "execution_count": 33,
   "metadata": {},
   "outputs": [],
   "source": [
    "import gc\n",
    "testX=torch.from_numpy(np.array(testX)).type(torch.float)\n",
    "\n",
    "testX = Variable(testX)\n",
    "testX = testX.cuda(1)\n",
    "\n"
   ]
  },
  {
   "cell_type": "code",
   "execution_count": 34,
   "metadata": {},
   "outputs": [],
   "source": [
    "torch.cuda.empty_cache()\n",
    "gc.collect()\n",
    "testLoss=[]\n",
    "predictions=[]\n",
    "for i in range(0,len(testX),1):\n",
    "    \n",
    "    prediction = net.predict(testX[i:i+1])\n",
    "#     print(prediction)\n",
    "#     print(testY[i])\n",
    "#     print()\n",
    "    predictions.append(prediction.data.cpu().numpy())\n",
    "    #print(Variable(prediction))\n",
    "    #print(Variable(y))\n",
    "#     loss = criterion(prediction,testY[i:i+2].squeeze())\n",
    "#     testLoss.append(loss.item())\n",
    "\n",
    "#     print(d,loss.item())\n"
   ]
  },
  {
   "cell_type": "code",
   "execution_count": 35,
   "metadata": {},
   "outputs": [
    {
     "name": "stdout",
     "output_type": "stream",
     "text": [
      "666\n",
      "1.0\n"
     ]
    }
   ],
   "source": [
    "print(len(predictions))\n",
    "error = 0\n",
    "for i in range(len(predictions)):\n",
    "    if predictions[i]!=testY[i]:\n",
    "        error+=1\n",
    "print(1-error/len(predictions))"
   ]
  },
  {
   "cell_type": "code",
   "execution_count": 36,
   "metadata": {},
   "outputs": [
    {
     "data": {
      "image/png": "[encoded data removed]",
      "text/plain": [
       "<matplotlib.figure.Figure at 0x7f90c59832b0>"
      ]
     },
     "metadata": {},
     "output_type": "display_data"
    }
   ],
   "source": [
    "plt.figure()\n",
    "plt.plot(range(len(predictions)),predictions-testY,'ro')\n",
    "# plt.plot(range(len(testY)),,'bx')\n",
    "\n",
    "plt.show()"
   ]
  },
  {
   "cell_type": "code",
   "execution_count": null,
   "metadata": {},
   "outputs": [],
   "source": []
  },
  {
   "cell_type": "code",
   "execution_count": 31,
   "metadata": {},
   "outputs": [],
   "source": [
    "torch.save(net.state_dict(),'./myC3D924.pickle')"
   ]
  }
 ],
 "metadata": {
  "kernelspec": {
   "display_name": "Python 3",
   "language": "python",
   "name": "python3"
  },
  "language_info": {
   "codemirror_mode": {
    "name": "ipython",
    "version": 3
   },
   "file_extension": ".py",
   "mimetype": "text/x-python",
   "name": "python",
   "nbconvert_exporter": "python",
   "pygments_lexer": "ipython3",
   "version": "3.5.2"
  },
  "latex_envs": {
   "LaTeX_envs_menu_present": true,
   "autoclose": false,
   "autocomplete": true,
   "bibliofile": "biblio.bib",
   "cite_by": "apalike",
   "current_citInitial": 1,
   "eqLabelWithNumbers": true,
   "eqNumInitial": 1,
   "hotkeys": {
    "equation": "Ctrl-E",
    "itemize": "Ctrl-I"
   },
   "labels_anchors": false,
   "latex_user_defs": false,
   "report_style_numbering": false,
   "user_envs_cfg": false
  }
 },
 "nbformat": 4,
 "nbformat_minor": 2
}
